{
 "cells": [
  {
   "cell_type": "markdown",
   "metadata": {},
   "source": [
    "Note: To use `dropboxdol`, you'll need to have a dropbox access token. \n",
    "Additionally, that token should be allowed to do the operation that you are doing. \n",
    "For example, you only need the \"sharing.write\" permission to CREATE a (new) shared link. \n",
    "\n",
    "See more information in [Dropbox's Auth Guide](https://developers.dropbox.com/oauth-guide). Essentially, you need to make an \"app\" and get a token for it. No worries, it's quick and easy (just give the \"app\" a name) and give it a scope and permissions, then generate your token (and put it somewhere safe).\n",
    "\n",
    "By default, `dropboxdol` looks for the access token in the `DROPBOX_ACCESS_TOKEN` environment variable. You can put your token there for easy interactions, but you can also specify another environment variable, or the access token itself, in the `access_token` argument of the functions and classes that need it. First, `dropboxdol` will look for the `access_token` string you gave it in the environment variables, and if it doesn't find it, it will assume you gave it the access token itself.\n"
   ]
  },
  {
   "cell_type": "markdown",
   "metadata": {},
   "source": [
    "# Get link of local file"
   ]
  },
  {
   "cell_type": "code",
   "execution_count": null,
   "metadata": {},
   "outputs": [
    {
     "name": "stdout",
     "output_type": "stream",
     "text": [
      "https://www.dropbox.com/scl/fi/3o8ooqje4f497npxdeiwg/test.txt?rlkey=x9jsd8u7k147x6fzc7stxozqe&dl=0\n"
     ]
    }
   ],
   "source": [
    "from dropboxdol import dropbox_link\n",
    "\n",
    "local_file = '/Users/thorwhalen/Dropbox/Apps/py2store/py2store_data/test.txt'\n",
    "\n",
    "# Note: Your token needs the \"sharing.write\" permission to CREATE a (new) shared link\n",
    "dropbox_url = dropbox_link(local_file)\n",
    "print(dropbox_url)"
   ]
  },
  {
   "cell_type": "code",
   "execution_count": null,
   "metadata": {},
   "outputs": [
    {
     "data": {
      "text/plain": [
       "'https://www.dropbox.com/scl/fi/3o8ooqje4f497npxdeiwg/test.txt?rlkey=x9jsd8u7k147x6fzc7stxozqe&dl=1'"
      ]
     },
     "execution_count": 5,
     "metadata": {},
     "output_type": "execute_result"
    }
   ],
   "source": [
    "from functools import partial\n",
    "\n",
    "# if you want to talk \"relative\" to the dropbox root dir, do this:\n",
    "my_dropbox_link = partial(dropbox_link, dropbox_local_rootdir='/Users/thorwhalen/Dropbox')\n",
    "# If you want a \"direct (download) link\", do this:\n",
    "dl1_link = my_dropbox_link('Apps/py2store/py2store_data/test.txt', dl=1)\n",
    "dl1_link"
   ]
  },
  {
   "cell_type": "code",
   "execution_count": null,
   "metadata": {},
   "outputs": [],
   "source": []
  },
  {
   "cell_type": "code",
   "execution_count": null,
   "metadata": {},
   "outputs": [],
   "source": []
  },
  {
   "cell_type": "code",
   "execution_count": null,
   "metadata": {},
   "outputs": [],
   "source": []
  },
  {
   "cell_type": "code",
   "execution_count": null,
   "metadata": {},
   "outputs": [],
   "source": []
  }
 ],
 "metadata": {
  "kernelspec": {
   "display_name": "p10",
   "language": "python",
   "name": "python3"
  },
  "language_info": {
   "codemirror_mode": {
    "name": "ipython",
    "version": 3
   },
   "file_extension": ".py",
   "mimetype": "text/x-python",
   "name": "python",
   "nbconvert_exporter": "python",
   "pygments_lexer": "ipython3",
   "version": "3.10.13"
  }
 },
 "nbformat": 4,
 "nbformat_minor": 2
}
