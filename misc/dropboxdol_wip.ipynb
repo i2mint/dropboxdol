{
 "cells": [
  {
   "cell_type": "markdown",
   "metadata": {},
   "source": [
    "Note: To use `dropboxdol`, you'll need to have a dropbox access token. \n",
    "Additionally, that token should be allowed to do the operation that you are doing. \n",
    "For example, you only need the \"sharing.write\" permission to CREATE a (new) shared link. \n",
    "\n",
    "See more information in [Dropbox's Auth Guide](https://developers.dropbox.com/oauth-guide). \n",
    "\n",
    "\n",
    "By default, `dropboxdol` looks for the access tokens and other information is (well, really, the dropbox API) needs)\n",
    "in the \"default_dropbox_config.json\" file of the dropboxdol app data. \n",
    "You can interact with those files via `dropboxdol.config_store`, which has a dict-like interface to the files in that folder. \n",
    "\n"
   ]
  },
  {
   "cell_type": "markdown",
   "metadata": {},
   "source": [
    "# Setup\n",
    "\n",
    "\n",
    "By default, `dropboxdol` looks for the access tokens and other information is \n",
    "(well, really, the dropbox API) needs)\n",
    "in the `\"default_dropbox_config.json\"` file of the dropboxdol app data. \n",
    "You can interact with those files via `dropboxdol.config_store`, which has a dict-like interface to the files in that folder. \n",
    "\n",
    "If you don't have a `\"default_dropbox_config.json\"` file, you'll need to specify the \n",
    "connection config explicitly (by specifying a config dict, a filepath, filename of the \n",
    "`config_store`).\n",
    "\n",
    "Note that at this point, dropbox only dishes out temporary access tokens.\n",
    "This means you can't just save an access token once and be over with it. \n",
    "So to get the convenience of automatic connections, you'll need to specify not only a \n",
    "`oauth2_access_token`, but also a `oauth2_refresh_token`, an `app_key` and an `app_secret`. \n",
    "\n",
    "You can read all about that annoying stuff in the [Dropbox's Auth Guide](https://developers.dropbox.com/oauth-guide).\n",
    "\n",
    "But here's a few things to make it a bit less painful:\n",
    "* make an \"app\" in the [app console](https://www.dropbox.com/developers/apps?_tk=pilot_lp&_ad=topbar4&_camp=myapps)\n",
    "* specify scope and permissions you want on it\n",
    "* note down the app key and the app secret\n",
    "\n",
    "then use the following, which will walk you through the steps to get your access and refresh tokens.\n",
    "\n",
    "These will then be stored in the `config_file` of your choice, so that all you have to \n",
    "do is mention the file to get the connection.\n"
   ]
  },
  {
   "cell_type": "code",
   "execution_count": null,
   "metadata": {},
   "outputs": [],
   "source": [
    "from dropboxdol import create_config_file\n",
    "\n",
    "create_config_file(\n",
    "    config_file='NAME_OF_YOUR_APP_OR_WHATEVER_NAME_YOU_WILL_REMEMBER.json',\n",
    "    app_key='YOUR_APP_KEY', \n",
    "    app_secret='YOUR_APP_SECRET',\n",
    ")"
   ]
  },
  {
   "cell_type": "markdown",
   "metadata": {},
   "source": [
    "If you already have a config file for this app, with app_key and app_secret, \n",
    "you can update the tokens by doing this:"
   ]
  },
  {
   "cell_type": "code",
   "execution_count": null,
   "metadata": {},
   "outputs": [],
   "source": [
    "from dropboxdol import complete_config_file_with_refresh_token\n",
    "\n",
    "\n",
    "complete_config_file_with_refresh_token(\n",
    "    config_file='NAME_OF_YOUR_APP_OR_WHATEVER_YOU_CALLED_THAT_CONFIG.json',\n",
    ")"
   ]
  },
  {
   "cell_type": "markdown",
   "metadata": {},
   "source": [
    "If you want to edit some configs, you can do so by editing the file directly, or use \n",
    "`create_or_edit_config_file`."
   ]
  },
  {
   "cell_type": "code",
   "execution_count": 1,
   "metadata": {},
   "outputs": [],
   "source": [
    "from dropboxdol import create_or_edit_config_file\n",
    "\n",
    "create_or_edit_config_file(\n",
    "    config_file='CONFIG_FILE.json',\n",
    "    # whatever edits you want to make... (specifying None will skip that config, leaving it unchanged)\n",
    "    oauth2_access_token=None,\n",
    "    oauth2_refresh_token=None,\n",
    "    app_key=None,\n",
    "    app_secret=None,\n",
    ")"
   ]
  },
  {
   "cell_type": "markdown",
   "metadata": {},
   "source": [
    "Then, assuming you have all your tokens in order, you can now do stuff..."
   ]
  },
  {
   "cell_type": "markdown",
   "metadata": {},
   "source": [
    "# Get a dropbox \"store\""
   ]
  },
  {
   "cell_type": "code",
   "execution_count": 1,
   "metadata": {},
   "outputs": [],
   "source": [
    "from dropboxdol import DropboxFiles\n",
    "from i2 import Sig \n",
    "\n",
    "drops = DropboxFiles('/Apps/py2store')"
   ]
  },
  {
   "cell_type": "code",
   "execution_count": 2,
   "metadata": {},
   "outputs": [
    {
     "data": {
      "text/plain": [
       "['/test', '/test.txt', '/another_test.txt']"
      ]
     },
     "execution_count": 2,
     "metadata": {},
     "output_type": "execute_result"
    }
   ],
   "source": [
    "t = DropboxFiles('/Apps/py2store/py2store_data')\n",
    "list(t)"
   ]
  },
  {
   "cell_type": "code",
   "execution_count": 4,
   "metadata": {},
   "outputs": [
    {
     "data": {
      "text/plain": [
       "b'This is a test.\\nSee it work.\\nAnd what about unicode? \\xc3\\xa8\\xc3\\xa9\\xc3\\xaa\\xc3\\xab\\xc4\\x93\\xc4\\x97\\xc4\\x99?'"
      ]
     },
     "execution_count": 4,
     "metadata": {},
     "output_type": "execute_result"
    }
   ],
   "source": [
    "t['/test.txt']"
   ]
  },
  {
   "cell_type": "markdown",
   "metadata": {},
   "source": [
    "# Get link of local file"
   ]
  },
  {
   "cell_type": "code",
   "execution_count": 22,
   "metadata": {},
   "outputs": [
    {
     "name": "stdout",
     "output_type": "stream",
     "text": [
      "https://www.dropbox.com/scl/fi/3o8ooqje4f497npxdeiwg/test.txt?rlkey=x9jsd8u7k147x6fzc7stxozqe&dl=0\n"
     ]
    }
   ],
   "source": [
    "from dropboxdol import dropbox_link\n",
    "\n",
    "local_file = '/Users/thorwhalen/Dropbox/Apps/py2store/py2store_data/test.txt'\n",
    "\n",
    "# Note: Your token needs the \"sharing.write\" permission to CREATE a (new) shared link\n",
    "dropbox_url = dropbox_link(local_file)\n",
    "print(dropbox_url)"
   ]
  },
  {
   "cell_type": "code",
   "execution_count": null,
   "metadata": {},
   "outputs": [
    {
     "data": {
      "text/plain": [
       "'https://www.dropbox.com/scl/fi/3o8ooqje4f497npxdeiwg/test.txt?rlkey=x9jsd8u7k147x6fzc7stxozqe&dl=1'"
      ]
     },
     "execution_count": 5,
     "metadata": {},
     "output_type": "execute_result"
    }
   ],
   "source": [
    "from functools import partial\n",
    "\n",
    "# if you want to talk \"relative\" to the dropbox root dir, do this:\n",
    "my_dropbox_link = partial(dropbox_link, dropbox_local_rootdir='/Users/thorwhalen/Dropbox')\n",
    "# If you want a \"direct (download) link\", do this:\n",
    "dl1_link = my_dropbox_link('Apps/py2store/py2store_data/test.txt', dl=1)\n",
    "dl1_link"
   ]
  },
  {
   "cell_type": "markdown",
   "metadata": {},
   "source": [
    "## Get store from link"
   ]
  },
  {
   "cell_type": "code",
   "execution_count": 1,
   "metadata": {},
   "outputs": [
    {
     "data": {
      "text/plain": [
       "['inner_folder',\n",
       " 'b1467f55540c4695bf483bc542e43256',\n",
       " '0b98e2af76c94a0a9cc2808866dd62de',\n",
       " '3372aa35ea444c758bfa2e4599b2576d',\n",
       " '9de9d98a4c4648cca1bc1131c307a365',\n",
       " '91c744890d374dd8bc914f1153311b0c',\n",
       " '57af886dd22f4a23a678a3de3eb996a0',\n",
       " '43ba127e5e9245ec983c9f39e4ed7306']"
      ]
     },
     "execution_count": 1,
     "metadata": {},
     "output_type": "execute_result"
    }
   ],
   "source": [
    "from dropboxdol import DropboxLinkReaderWithToken\n",
    "\n",
    "s = DropboxLinkReaderWithToken(\n",
    "    url=\"https://www.dropbox.com/sh/0ru09jmk0w9tdnr/AAA-PPON2sYmwUUoGQpBQh1Ia?dl=0\"\n",
    ")\n",
    "keys = list(s)\n",
    "keys"
   ]
  },
  {
   "cell_type": "code",
   "execution_count": null,
   "metadata": {},
   "outputs": [
    {
     "data": {
      "text/plain": [
       "[FolderMetadata(id='id:YlSl2LVZjVAAAAAAAAAAGg', name='inner_folder', parent_shared_folder_id='1067644886', path_display=NOT_SET, path_lower=NOT_SET, preview_url=NOT_SET, property_groups=NOT_SET, shared_folder_id=NOT_SET, sharing_info=FolderSharingInfo(no_access=False, parent_shared_folder_id='1067644886', read_only=True, shared_folder_id=NOT_SET, traverse_only=False)),\n",
       " FileMetadata(client_modified=datetime.datetime(2019, 9, 20, 12, 40, 12), content_hash='7267b55693d544863f5ee220b4e823f352f96f9baa76319a802cf91965b2f70d', export_info=NOT_SET, file_lock_info=NOT_SET, has_explicit_shared_members=NOT_SET, id='id:YlSl2LVZjVAAAAAAAAAACw', is_downloadable=True, media_info=NOT_SET, name='b1467f55540c4695bf483bc542e43256', parent_shared_folder_id='1067644886', path_display=NOT_SET, path_lower=NOT_SET, preview_url=NOT_SET, property_groups=NOT_SET, rev='592fb5f0b35f13fa2f7d6', server_modified=datetime.datetime(2019, 9, 20, 12, 40, 12), sharing_info=FileSharingInfo(modified_by='dbid:AAD2NjNI7OPt5QJgFj6VLff0wvOA2Bh6s9s', parent_shared_folder_id='1067644886', read_only=True), size=85, symlink_info=NOT_SET),\n",
       " FileMetadata(client_modified=datetime.datetime(2019, 9, 20, 13, 25, 58), content_hash='7267b55693d544863f5ee220b4e823f352f96f9baa76319a802cf91965b2f70d', export_info=NOT_SET, file_lock_info=NOT_SET, has_explicit_shared_members=NOT_SET, id='id:YlSl2LVZjVAAAAAAAAAADQ', is_downloadable=True, media_info=NOT_SET, name='0b98e2af76c94a0a9cc2808866dd62de', parent_shared_folder_id='1067644886', path_display=NOT_SET, path_lower=NOT_SET, preview_url=NOT_SET, property_groups=NOT_SET, rev='592fc02bd060f3fa2f7d6', server_modified=datetime.datetime(2019, 9, 20, 13, 25, 58), sharing_info=FileSharingInfo(modified_by='dbid:AAD2NjNI7OPt5QJgFj6VLff0wvOA2Bh6s9s', parent_shared_folder_id='1067644886', read_only=True), size=85, symlink_info=NOT_SET),\n",
       " FileMetadata(client_modified=datetime.datetime(2019, 9, 20, 13, 26, 17), content_hash='7267b55693d544863f5ee220b4e823f352f96f9baa76319a802cf91965b2f70d', export_info=NOT_SET, file_lock_info=NOT_SET, has_explicit_shared_members=NOT_SET, id='id:YlSl2LVZjVAAAAAAAAAADg', is_downloadable=True, media_info=NOT_SET, name='3372aa35ea444c758bfa2e4599b2576d', parent_shared_folder_id='1067644886', path_display=NOT_SET, path_lower=NOT_SET, preview_url=NOT_SET, property_groups=NOT_SET, rev='592fc03ddb7d03fa2f7d6', server_modified=datetime.datetime(2019, 9, 20, 13, 26, 17), sharing_info=FileSharingInfo(modified_by='dbid:AAD2NjNI7OPt5QJgFj6VLff0wvOA2Bh6s9s', parent_shared_folder_id='1067644886', read_only=True), size=85, symlink_info=NOT_SET),\n",
       " FileMetadata(client_modified=datetime.datetime(2019, 9, 27, 14, 35, 3), content_hash='b790c2e9f3115ebae23f3cf19dcb4ab31ec23eeba0ab733ed091db654a923461', export_info=NOT_SET, file_lock_info=NOT_SET, has_explicit_shared_members=NOT_SET, id='id:YlSl2LVZjVAAAAAAAAAAEg', is_downloadable=True, media_info=NOT_SET, name='9de9d98a4c4648cca1bc1131c307a365', parent_shared_folder_id='1067644886', path_display=NOT_SET, path_lower=NOT_SET, preview_url=NOT_SET, property_groups=NOT_SET, rev='59389cab03ff93fa2f7d6', server_modified=datetime.datetime(2019, 9, 27, 14, 35, 3), sharing_info=FileSharingInfo(modified_by='dbid:AAD2NjNI7OPt5QJgFj6VLff0wvOA2Bh6s9s', parent_shared_folder_id='1067644886', read_only=True), size=22, symlink_info=NOT_SET),\n",
       " FileMetadata(client_modified=datetime.datetime(2019, 9, 27, 14, 40, 36), content_hash='b790c2e9f3115ebae23f3cf19dcb4ab31ec23eeba0ab733ed091db654a923461', export_info=NOT_SET, file_lock_info=NOT_SET, has_explicit_shared_members=NOT_SET, id='id:YlSl2LVZjVAAAAAAAAAAFA', is_downloadable=True, media_info=NOT_SET, name='91c744890d374dd8bc914f1153311b0c', parent_shared_folder_id='1067644886', path_display=NOT_SET, path_lower=NOT_SET, preview_url=NOT_SET, property_groups=NOT_SET, rev='59389de8a55f73fa2f7d6', server_modified=datetime.datetime(2019, 9, 27, 14, 40, 36), sharing_info=FileSharingInfo(modified_by='dbid:AAD2NjNI7OPt5QJgFj6VLff0wvOA2Bh6s9s', parent_shared_folder_id='1067644886', read_only=True), size=22, symlink_info=NOT_SET),\n",
       " FileMetadata(client_modified=datetime.datetime(2019, 9, 27, 14, 44, 41), content_hash='b790c2e9f3115ebae23f3cf19dcb4ab31ec23eeba0ab733ed091db654a923461', export_info=NOT_SET, file_lock_info=NOT_SET, has_explicit_shared_members=NOT_SET, id='id:YlSl2LVZjVAAAAAAAAAAFg', is_downloadable=True, media_info=NOT_SET, name='57af886dd22f4a23a678a3de3eb996a0', parent_shared_folder_id='1067644886', path_display=NOT_SET, path_lower=NOT_SET, preview_url=NOT_SET, property_groups=NOT_SET, rev='59389ed2446a03fa2f7d6', server_modified=datetime.datetime(2019, 9, 27, 14, 44, 41), sharing_info=FileSharingInfo(modified_by='dbid:AAD2NjNI7OPt5QJgFj6VLff0wvOA2Bh6s9s', parent_shared_folder_id='1067644886', read_only=True), size=22, symlink_info=NOT_SET),\n",
       " FileMetadata(client_modified=datetime.datetime(2019, 9, 27, 14, 54, 12), content_hash='b790c2e9f3115ebae23f3cf19dcb4ab31ec23eeba0ab733ed091db654a923461', export_info=NOT_SET, file_lock_info=NOT_SET, has_explicit_shared_members=NOT_SET, id='id:YlSl2LVZjVAAAAAAAAAAGA', is_downloadable=True, media_info=NOT_SET, name='43ba127e5e9245ec983c9f39e4ed7306', parent_shared_folder_id='1067644886', path_display=NOT_SET, path_lower=NOT_SET, preview_url=NOT_SET, property_groups=NOT_SET, rev='5938a0f2cedbb3fa2f7d6', server_modified=datetime.datetime(2019, 9, 27, 14, 54, 12), sharing_info=FileSharingInfo(modified_by='dbid:AAD2NjNI7OPt5QJgFj6VLff0wvOA2Bh6s9s', parent_shared_folder_id='1067644886', read_only=True), size=22, symlink_info=NOT_SET)]"
      ]
     },
     "execution_count": 2,
     "metadata": {},
     "output_type": "execute_result"
    }
   ],
   "source": [
    "from dropboxdol import DropboxLinkReaderWithToken\n",
    "\n",
    "s = DropboxLinkReaderWithToken(\n",
    "    url=\"https://www.dropbox.com/sh/0ru09jmk0w9tdnr/AAA-PPON2sYmwUUoGQpBQh1Ia?dl=0\"\n",
    ")\n",
    "raw_keys = list(s._raw_iter())\n",
    "raw_keys"
   ]
  },
  {
   "cell_type": "code",
   "execution_count": 14,
   "metadata": {},
   "outputs": [
    {
     "data": {
      "text/plain": [
       "'inner_folder'"
      ]
     },
     "execution_count": 14,
     "metadata": {},
     "output_type": "execute_result"
    }
   ],
   "source": [
    "t.name"
   ]
  },
  {
   "cell_type": "code",
   "execution_count": 28,
   "metadata": {},
   "outputs": [
    {
     "data": {
      "text/plain": [
       "dropbox.files.SharedLink"
      ]
     },
     "execution_count": 28,
     "metadata": {},
     "output_type": "execute_result"
    }
   ],
   "source": [
    "type(s.shared_link)"
   ]
  },
  {
   "cell_type": "code",
   "execution_count": 30,
   "metadata": {},
   "outputs": [
    {
     "name": "stdout",
     "output_type": "stream",
     "text": [
      "inner_folder - None\n",
      "b1467f55540c4695bf483bc542e43256 - None\n",
      "0b98e2af76c94a0a9cc2808866dd62de - None\n",
      "3372aa35ea444c758bfa2e4599b2576d - None\n",
      "9de9d98a4c4648cca1bc1131c307a365 - None\n",
      "91c744890d374dd8bc914f1153311b0c - None\n",
      "57af886dd22f4a23a678a3de3eb996a0 - None\n",
      "43ba127e5e9245ec983c9f39e4ed7306 - None\n"
     ]
    }
   ],
   "source": [
    "import os\n",
    "import dropbox\n",
    "from dropbox.exceptions import ApiError\n",
    "from dropbox.files import SharedLink\n",
    "\n",
    "def list_files_in_shared_link(shared_link: str, path: str = \"\", client: dropbox.Dropbox = None) -> list:\n",
    "    \"\"\"\n",
    "    List all files and folders under a Dropbox shared link folder.\n",
    "\n",
    "    Parameters:\n",
    "      shared_link (str): The URL of the Dropbox shared link (expected to point to a folder).\n",
    "      path (str): Optional path within the shared link folder (default is the root of the shared link).\n",
    "      client (dropbox.Dropbox, optional): An instantiated Dropbox client. If not provided, the function\n",
    "                                            will attempt to create one using the environment variable\n",
    "                                            DROPBOX_ACCESS_TOKEN.\n",
    "\n",
    "    Returns:\n",
    "      list: A list of metadata entries (files and folders) found under the specified shared link.\n",
    "\n",
    "    Raises:\n",
    "      Exception: If no client is provided and DROPBOX_ACCESS_TOKEN is not set, or if an API error occurs.\n",
    "    \"\"\"\n",
    "    # Create a Dropbox client if one wasn't provided.\n",
    "    client = get_client()\n",
    "    \n",
    "\n",
    "    # Create a SharedLink object from the provided URL.\n",
    "    shared_link_obj = SharedLink(url=shared_link)\n",
    "\n",
    "    try:\n",
    "        # List the folder at the specified path within the shared link.\n",
    "        result = client.files_list_folder(path=path, shared_link=shared_link_obj)\n",
    "    except ApiError as e:\n",
    "        raise Exception(f\"Error listing folder for shared link: {e}\")\n",
    "\n",
    "    entries = result.entries[:]\n",
    "    # If there are more entries, continue to page through the results.\n",
    "    while result.has_more:\n",
    "        result = client.files_list_folder_continue(result.cursor)\n",
    "        entries.extend(result.entries)\n",
    "    return entries\n",
    "\n",
    "# Example usage:\n",
    "if __name__ == \"__main__\":\n",
    "    # Replace with your shared link URL.\n",
    "    url=\"https://www.dropbox.com/sh/0ru09jmk0w9tdnr/AAA-PPON2sYmwUUoGQpBQh1Ia?dl=0\"\n",
    "    shared_link_url = url\n",
    "    try:\n",
    "        files = list_files_in_shared_link(shared_link_url)\n",
    "        for entry in files:\n",
    "            print(f\"{entry.name} - {entry.path_lower}\")\n",
    "    except Exception as e:\n",
    "        print(\"Error:\", e)"
   ]
  },
  {
   "cell_type": "code",
   "execution_count": null,
   "metadata": {},
   "outputs": [
    {
     "data": {
      "text/plain": [
       "<dropbox.dropbox_client.Dropbox at 0x1129de4d0>"
      ]
     },
     "execution_count": 16,
     "metadata": {},
     "output_type": "execute_result"
    }
   ],
   "source": []
  },
  {
   "cell_type": "code",
   "execution_count": null,
   "metadata": {},
   "outputs": [],
   "source": []
  },
  {
   "cell_type": "code",
   "execution_count": null,
   "metadata": {},
   "outputs": [],
   "source": []
  },
  {
   "cell_type": "code",
   "execution_count": null,
   "metadata": {},
   "outputs": [],
   "source": []
  },
  {
   "cell_type": "code",
   "execution_count": 3,
   "metadata": {},
   "outputs": [],
   "source": [
    "import json\n",
    "import os\n",
    "from dropboxdol.tests.test_dropbox import test_config\n",
    "from dropboxdol import DropboxPersister\n",
    "\n",
    "s = DropboxPersister('/py2store_data/test/', connection_config=test_config)\n",
    "\n",
    "# >>> if '/py2store_data/test/_can_remove' in s:\n",
    "# ...     del s['/py2store_data/test/_can_remove']\n",
    "# ...\n",
    "# >>>\n",
    "# >>> n = len(s)\n",
    "# >>> if n == 1:\n",
    "# ...     assert list(s) == ['/py2store_data/test/_can_remove']\n",
    "# ...\n",
    "# >>> s['/py2store_data/test/_can_remove'] = b'this is a test'\n",
    "# >>> assert len(s) == n + 1\n",
    "# >>> assert s['/py2store_data/test/_can_remove'] == b'this is a test'\n",
    "# >>> '/py2store_data/test/_can_remove' in s\n",
    "# True\n",
    "# >>> del s['/py2store_data/test/_can_remove']"
   ]
  },
  {
   "cell_type": "code",
   "execution_count": 4,
   "metadata": {},
   "outputs": [
    {
     "data": {
      "text/plain": [
       "['/py2store_data/test/file_in_test_folder.txt',\n",
       " '/py2store_data/test/another_file_in_test_folder.txt']"
      ]
     },
     "execution_count": 4,
     "metadata": {},
     "output_type": "execute_result"
    }
   ],
   "source": [
    "list(s)"
   ]
  },
  {
   "cell_type": "code",
   "execution_count": null,
   "metadata": {},
   "outputs": [],
   "source": []
  },
  {
   "cell_type": "markdown",
   "metadata": {},
   "source": [
    "# Scrap"
   ]
  },
  {
   "cell_type": "code",
   "execution_count": 5,
   "metadata": {},
   "outputs": [
    {
     "data": {
      "text/plain": [
       "['default_dropbox_config.json']"
      ]
     },
     "execution_count": 5,
     "metadata": {},
     "output_type": "execute_result"
    }
   ],
   "source": [
    "from dropboxdol.util import config_store\n",
    "\n",
    "list(config_store)\n"
   ]
  },
  {
   "cell_type": "code",
   "execution_count": null,
   "metadata": {},
   "outputs": [],
   "source": []
  },
  {
   "cell_type": "code",
   "execution_count": null,
   "metadata": {},
   "outputs": [],
   "source": []
  }
 ],
 "metadata": {
  "kernelspec": {
   "display_name": "p10",
   "language": "python",
   "name": "python3"
  },
  "language_info": {
   "codemirror_mode": {
    "name": "ipython",
    "version": 3
   },
   "file_extension": ".py",
   "mimetype": "text/x-python",
   "name": "python",
   "nbconvert_exporter": "python",
   "pygments_lexer": "ipython3",
   "version": "3.10.13"
  }
 },
 "nbformat": 4,
 "nbformat_minor": 2
}
